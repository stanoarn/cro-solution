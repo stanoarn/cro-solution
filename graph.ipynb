{
 "cells": [
  {
   "cell_type": "code",
   "execution_count": null,
   "id": "da95bf1c",
   "metadata": {},
   "outputs": [],
   "source": [
    "import ipywidgets as widgets\n",
    "from ipywidgets import interact\n",
    "\n",
    "import numpy as np\n",
    "import pandas as pd\n",
    "import datetime\n",
    "import pathlib\n",
    "from os import environ\n",
    "\n",
    "from solution import Entry, get_week, str_to_date"
   ]
  },
  {
   "cell_type": "code",
   "execution_count": null,
   "id": "9fb7cace",
   "metadata": {},
   "outputs": [],
   "source": [
    "# if the path to target directory was not\n",
    "# specified with a env var, specify it here\n",
    "try:\n",
    "    DATA_ROOT = environ['TARGET_DIRECTORY']\n",
    "except KeyError:\n",
    "    DATA_ROOT = pathlib.Path('./result')\n",
    "DATA_ROOT"
   ]
  },
  {
   "cell_type": "code",
   "execution_count": null,
   "id": "360234d9",
   "metadata": {},
   "outputs": [],
   "source": [
    "# read data\n",
    "data = []\n",
    "for json_file in DATA_ROOT.glob('*/*/*.json'):\n",
    "    json_df = pd.read_json(json_file, typ='records')\n",
    "\n",
    "    data.append(json_df)\n",
    "data = pd.DataFrame.from_records(data)"
   ]
  },
  {
   "cell_type": "code",
   "execution_count": null,
   "id": "dbc0cf0b",
   "metadata": {},
   "outputs": [],
   "source": [
    "# prepare columns for data analysis\n",
    "data['date'] = data.apply(lambda row: str_to_date(row.date), axis=1)\n",
    "data['week'] = data.apply(lambda row: get_week(row.date), axis=1)\n",
    "data['year'] = data.apply(lambda row: row.date.year, axis=1)\n",
    "data['text_len'] = data['text'].str.len()"
   ]
  },
  {
   "cell_type": "code",
   "execution_count": null,
   "id": "1d2d7563",
   "metadata": {},
   "outputs": [],
   "source": [
    "# create an interactive graph\n",
    "# the graph might be too large or small, adjust its size\n",
    "# with the fig_{x,y} sliders\n",
    "# you can also choose the orientation of the data from which \n",
    "# years to display, the orientation of the graph, whether to\n",
    "# only compare years, and which value to compare\n",
    "\n",
    "year_options = data['year'].unique()\n",
    "@interact(years=widgets.SelectMultiple(options=[str(year) for year in year_options],\n",
    "                                       value=[str(year) for year in year_options],\n",
    "                                       description='Years', ))\n",
    "def plot_graph(years,\n",
    "               fig_x=(1,20, 0.5), fig_y=(1,20, 0.5),\n",
    "               horizontal=True, years_only=False,\n",
    "               display=['text len mean', 'msg count'],               \n",
    "              ):\n",
    "    filtered_data = data[data.year.isin([int(y) for y in years])]\n",
    "    sorted_data = filtered_data.sort_values(['year', 'week'])\n",
    "    group_by = ['year', 'week']\n",
    "    if years_only:\n",
    "        group_by = ['year']\n",
    "    if display == 'text len mean':\n",
    "        grouped = sorted_data.groupby(group_by)['text_len'].mean()\n",
    "    elif display == 'msg count':\n",
    "        grouped = sorted_data.groupby(group_by)['text'].count()\n",
    "    else:\n",
    "        raise ValueError\n",
    "    if horizontal:\n",
    "        grouped.plot.barh(figsize=(fig_x, fig_y), grid=True)\n",
    "    else:\n",
    "        grouped.plot.bar(figsize=(fig_x, fig_y), grid=True)\n"
   ]
  }
 ],
 "metadata": {
  "kernelspec": {
   "display_name": "Python 3 (ipykernel)",
   "language": "python",
   "name": "python3"
  },
  "language_info": {
   "codemirror_mode": {
    "name": "ipython",
    "version": 3
   },
   "file_extension": ".py",
   "mimetype": "text/x-python",
   "name": "python",
   "nbconvert_exporter": "python",
   "pygments_lexer": "ipython3",
   "version": "3.11.3"
  }
 },
 "nbformat": 4,
 "nbformat_minor": 5
}
